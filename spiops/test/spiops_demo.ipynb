{
 "cells": [
  {
   "cell_type": "code",
   "execution_count": 1,
   "metadata": {
    "collapsed": false
   },
   "outputs": [
    {
     "ename": "SyntaxError",
     "evalue": "invalid syntax (<ipython-input-1-cc007af4e445>, line 4)",
     "output_type": "error",
     "traceback": [
      "\u001b[0;36m  File \u001b[0;32m\"<ipython-input-1-cc007af4e445>\"\u001b[0;36m, line \u001b[0;32m4\u001b[0m\n\u001b[0;31m    spiops.load('juice_crema_3_2_v151.tm')t\u001b[0m\n\u001b[0m                                          ^\u001b[0m\n\u001b[0;31mSyntaxError\u001b[0m\u001b[0;31m:\u001b[0m invalid syntax\n"
     ]
    }
   ],
   "source": [
    "%matplotlib inline\n",
    "import spiops as spiops\n",
    "\n",
    "spiops.load('juice_crema_3_2_v151.tm')\n",
    "\n",
    "interval = spiops.TimeWindow('2030-01-01T00:00:00', '2030-12-01T01:00:00',\n",
    "                      resolution=60*60)\n",
    "\n",
    "jupiter = spiops.Target('JUPITER', time=interval, frame='IAU_JUPITER')\n",
    "juice = spiops.Observer('JUICE', time=interval, target=jupiter)\n",
    "\n",
    "juice.Plot('zaxis_target_angle', notebook=True)"
   ]
  },
  {
   "cell_type": "code",
   "execution_count": null,
   "metadata": {
    "collapsed": false
   },
   "outputs": [],
   "source": [
    "juice.Plot('distance', notebook=True)"
   ]
  },
  {
   "cell_type": "code",
   "execution_count": null,
   "metadata": {
    "collapsed": false
   },
   "outputs": [],
   "source": [
    "juice.Plot3D()"
   ]
  },
  {
   "cell_type": "code",
   "execution_count": null,
   "metadata": {
    "collapsed": false
   },
   "outputs": [],
   "source": [
    "mk = 'data/SPICE/MARS-EXPRESS/kernels/mk/MEX_CKDIFF_TEST.TM'\n",
    "ck1 = 'data/SPICE/MARS-EXPRESS/kernels/ck/ATNM_MEASURED_160101_170101_V03.BC'\n",
    "ck2 = 'data/SPICE/MARS-EXPRESS/kernels/ck/ATNM_MEASURED_160101_170101_V02_fix.BC'\n",
    "spacecraft_frame = 'MEX_SC_REF'\n",
    "target_frame = 'J2000'\n",
    "resolution = 60\n",
    "tolerance = 0.1  # deg\n",
    "\n",
    "spiops.ckdiff(mk, ck1, ck2, spacecraft_frame, target_frame, resolution, tolerance,\n",
    "              plot_style='line', notebook=True)"
   ]
  },
  {
   "cell_type": "code",
   "execution_count": null,
   "metadata": {
    "collapsed": true
   },
   "outputs": [],
   "source": []
  }
 ],
 "metadata": {
  "kernelspec": {
   "display_name": "Python 3",
   "language": "python",
   "name": "python3"
  },
  "language_info": {
   "codemirror_mode": {
    "name": "ipython",
    "version": 3
   },
   "file_extension": ".py",
   "mimetype": "text/x-python",
   "name": "python",
   "nbconvert_exporter": "python",
   "pygments_lexer": "ipython3",
   "version": "3.5.1"
  }
 },
 "nbformat": 4,
 "nbformat_minor": 0
}
