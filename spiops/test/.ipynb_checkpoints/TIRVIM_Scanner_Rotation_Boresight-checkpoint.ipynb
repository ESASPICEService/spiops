{
 "cells": [
  {
   "cell_type": "markdown",
   "metadata": {},
   "source": [
    "# TIRVIM Scanner Rotation Boresight"
   ]
  },
  {
   "cell_type": "code",
   "execution_count": 17,
   "metadata": {},
   "outputs": [
    {
     "name": "stdout",
     "output_type": "stream",
     "text": [
      "TGO_ACS_TIRVIM_NAD shape: CIRCLE\n",
      "TGO_ACS_TIRVIM_NAD frame: TGO_ACS_TIRVIM_SCAN_NAD\n",
      "TGO_ACS_TIRVIM_NAD bsight: [0. 0. 1.]\n",
      "TGO_ACS_TIRVIM_NAD vectors: 1\n",
      "[[0.02443218 0.         0.99970149]]\n",
      "[-4.36199213e-02  6.39058414e-17  9.99048198e-01]\n",
      "ACS_TIRVIM_SCAN Boresight in *_BASE fame:\n",
      "[-0.04361992 -0.92010494  0.3892354 ]\n",
      "\n",
      "ACS_TIRVIM_SCAN Boresight in TGO_SPACECRAFT fame:\n",
      "[ 0.92010494 -0.3892354  -0.04361992]\n",
      "\n"
     ]
    }
   ],
   "source": [
    "#\n",
    "# This is a Python example on how to implement the rotation of \n",
    "# the scanner implementing the NADIR missalignment after the\n",
    "# rotation of the TIRVIM scanner.\n",
    "#\n",
    "import math\n",
    "import spiceypy as spiceypy\n",
    "\n",
    "#\n",
    "# We load the meta-kernel and get an arbitrary Ephemeris Time\n",
    "#\n",
    "spiceypy.furnsh('/Users/mcosta/ExoMars2016/kernels/mk/em16_ops_local.tm')\n",
    "et = spiceypy.utc2et('2018-07-02T11:11:56.208')\n",
    "\n",
    "\n",
    "# \n",
    "# We obtain the sensor ID from the sensor name\n",
    "#\n",
    "sensor_name = 'TGO_ACS_TIRVIM_NAD'\n",
    "sensor_id = spiceypy.bodn2c(sensor_name)\n",
    "\n",
    "\n",
    "#\n",
    "# We retrieve the Boresight in the TGO_ACS_TIRVIM_NAD frame\n",
    "#\n",
    "(shape, frame, bsight, vectors, bounds) = spiceypy.getfov(sensor_id, 100)\n",
    "\n",
    "print('{} shape: {}'.format(sensor_name, shape))\n",
    "print('{} frame: {}'.format(sensor_name, frame))\n",
    "print('{} bsight: {}'.format(sensor_name, bsight))\n",
    "print('{} vectors: {}\\n'.format(sensor_name, vectors))\n",
    "\n",
    "\n",
    "#\n",
    "# We obtain the Transformation Matrix from *_NAD to *_BASE\n",
    "#\n",
    "mat = spiceypy.pxform(frame,'TGO_ACS_TIRVIM_BASE', et)\n",
    "\n",
    "#\n",
    "# We compute the NAD boresight in the *_BASE frame\n",
    "#\n",
    "bsight_base = spiceypy.mxv(mat, bsight)\n",
    "print(bsight_base)\n",
    "\n",
    "#\n",
    "# We choose one rotation angle: 67.07 deg is for the OCC Scanner \n",
    "# Nominal fixed position\n",
    "#\n",
    "rot_ang = 67.07\n",
    "\n",
    "#\n",
    "# We generate a rotation matrix defined as a rot_ang rotation \n",
    "# around the +X axis of the *_BASE frame to simulate the rotation\n",
    "# of the scanner\n",
    "#\n",
    "rot = spiceypy.axisar([1,0,0], rot_ang*spiceypy.rpd())\n",
    "\n",
    "#\n",
    "# We rotate the NAD boresight in the *_BASE frame with the\n",
    "# rotation matrix that simulates the scanner rotation and\n",
    "# we obtain the desired boresight of the scanner\n",
    "# \n",
    "# IMPORTANT: This assumes that the missalignment is all\n",
    "# included in the boresight and NOT in the rotation axis \n",
    "# of the scanner\n",
    "# \n",
    "bsight_corr = spiceypy.mxv(rot_mat,bsight_base)\n",
    "\n",
    "print('ACS_TIRVIM_SCAN Boresight in *_BASE fame:\\n{}\\n'.format(bsight_corr))\n",
    "      \n",
    "#\n",
    "# We validate it comparing it with the boresight that we have\n",
    "# for the OCC position of the Scanner provided by TIRVIM in the\n",
    "# TGO_SPACECRAFT frame:\n",
    "#\n",
    "#   ACS_TIRVIM_SCAN_OCC Boresight: ( -0.89699, -0.44081, -0.04362 )\n",
    "#   ACS_TIRVIM_SCAN_OCC_BSR Boresight: ( -0.90139, -0.43102, -0.04028 )\n",
    "#\n",
    "mat = spiceypy.pxform('TGO_ACS_TIRVIM_BASE', 'TGO_SPACECRAFT', et)\n",
    "bsight_corr = spiceypy.mxv(mat, bsight_corr)\n",
    "\n",
    "print('ACS_TIRVIM_SCAN Boresight in TGO_SPACECRAFT fame:\\n{}\\n'.format(bsight_corr))"
   ]
  },
  {
   "cell_type": "code",
   "execution_count": null,
   "metadata": {},
   "outputs": [],
   "source": []
  }
 ],
 "metadata": {
  "kernelspec": {
   "display_name": "Python 3",
   "language": "python",
   "name": "python3"
  },
  "language_info": {
   "codemirror_mode": {
    "name": "ipython",
    "version": 3
   },
   "file_extension": ".py",
   "mimetype": "text/x-python",
   "name": "python",
   "nbconvert_exporter": "python",
   "pygments_lexer": "ipython3",
   "version": "3.6.4"
  }
 },
 "nbformat": 4,
 "nbformat_minor": 1
}
