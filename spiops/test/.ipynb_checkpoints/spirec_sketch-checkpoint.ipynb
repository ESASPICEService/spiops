{
 "cells": [
  {
   "cell_type": "code",
   "execution_count": null,
   "metadata": {},
   "outputs": [],
   "source": [
    "%matplotlib inline\n",
    "\n",
    "import spiceypy\n",
    "import math\n",
    "import numpy as np\n",
    "import matplotlib.pyplot as plt\n",
    "from mpl_toolkits.mplot3d import Axes3D\n",
    "import matplotlib as mpl\n",
    "\n",
    "mpl.rcParams['figure.figsize'] = (26.0, 26.0)\n",
    "\n",
    "spiceypy.furnsh('/Users/mcosta/ROSETTA/kernels/mk/ROS_OPS_LOCAL.TM')"
   ]
  },
  {
   "cell_type": "code",
   "execution_count": null,
   "metadata": {},
   "outputs": [],
   "source": [
    "et = spiceypy.utc2et('2007-02-24T19:10:32.834')\n",
    "\n",
    "sensor_name = 'ROS_NAVCAM-A'\n",
    "\n",
    "sensor_id = spiceypy.bodn2c(sensor_name)\n",
    "(shape, frame, bsight, vectors, bounds) = spiceypy.getfov(sensor_id, 100)\n",
    "\n",
    "print(vectors, bounds)"
   ]
  },
  {
   "cell_type": "code",
   "execution_count": null,
   "metadata": {},
   "outputs": [],
   "source": [
    "nx, ny = (1024, 1024)\n",
    "x = np.linspace(bounds[0][0], bounds[2][0], nx)\n",
    "y = np.linspace(bounds[0][1], bounds[2][1], ny)\n",
    "xv, yv = np.meshgrid(x, y)\n",
    "\n",
    "phase_matrix = np.zeros((1024, 1024))\n",
    "emissn_matrix = np.zeros((1024, 1024))\n",
    "libsight = []\n",
    "for i, x in enumerate(xv):\n",
    "    for j, y in enumerate(yv):\n",
    "        ibsight = [x[i], y[j], bsight[2]]\n",
    "        libsight.append(ibsight)\n",
    "        try:\n",
    "            (spoint, trgepc, srfvec ) = spiceypy.sincpt('ELLIPSOID', 'MARS', et, 'IAU_MARS', 'NONE', 'ROSETTA', frame, ibsight)\n",
    "            (trgepc, srfvec, phase, solar, emissn) = spiceypy.ilumin('ELLIPSOID', 'MARS', et, 'IAU_MARS', 'NONE', 'ROSETTA', spoint)\n",
    "            emissn_matrix[i,j] = emissn\n",
    "            phase_matrix[i,j] = phase\n",
    "        except:\n",
    "            pass\n",
    "            emissn_matrix[i,j] = 0\n",
    "            phase_matrix[i,j] = math.pi\n",
    "            "
   ]
  },
  {
   "cell_type": "code",
   "execution_count": null,
   "metadata": {},
   "outputs": [],
   "source": [
    "plt.pcolor(xv, yv, emissn_matrix)"
   ]
  },
  {
   "cell_type": "code",
   "execution_count": null,
   "metadata": {},
   "outputs": [],
   "source": [
    "plt.pcolor(xv, yv, phase_matrix)"
   ]
  },
  {
   "cell_type": "code",
   "execution_count": null,
   "metadata": {},
   "outputs": [],
   "source": [
    "spiceypy.furnsh('/Users/mcosta/ExoMars2016/kernels/dsk/mars_m129_mol_v01.bds')"
   ]
  },
  {
   "cell_type": "code",
   "execution_count": null,
   "metadata": {},
   "outputs": [],
   "source": [
    "nx, ny = (1024, 1024)\n",
    "x = np.linspace(bounds[0][0], bounds[2][0], nx)\n",
    "y = np.linspace(bounds[0][1], bounds[2][1], ny)\n",
    "xv, yv = np.meshgrid(x, y)\n",
    "\n",
    "phase_matrix = np.zeros((1024, 1024))\n",
    "emissn_matrix = np.zeros((1024, 1024))\n",
    "libsight = []\n",
    "for i, x in enumerate(xv):\n",
    "    for j, y in enumerate(yv):\n",
    "        ibsight = [x[i], y[j], bsight[2]]\n",
    "        libsight.append(ibsight)\n",
    "        try:\n",
    "            (spoint, trgepc, srfvec ) = spiceypy.sincpt('DSK/UNPRIORITIZED', 'MARS', et, 'IAU_MARS', 'NONE', 'ROSETTA', frame, ibsight)\n",
    "            (trgepc, srfvec, phase, solar, emissn) = spiceypy.ilumin('DSK/UNPRIORITIZED', 'MARS', et, 'IAU_MARS', 'NONE', 'ROSETTA', spoint)\n",
    "            emissn_matrix[i,j] = emissn\n",
    "            phase_matrix[i,j] = phase\n",
    "            print(emissn)\n",
    "        except:\n",
    "            pass\n",
    "            emissn_matrix[i,j] = 0\n",
    "            phase_matrix[i,j] = math.pi\n",
    "            "
   ]
  },
  {
   "cell_type": "code",
   "execution_count": null,
   "metadata": {},
   "outputs": [],
   "source": [
    "plt.pcolor(xv, yv, emissn_matrix)"
   ]
  },
  {
   "cell_type": "code",
   "execution_count": null,
   "metadata": {},
   "outputs": [],
   "source": [
    "plt.pcolor(xv, yv, phase_matrix)"
   ]
  }
 ],
 "metadata": {
  "kernelspec": {
   "display_name": "Python 3",
   "language": "python",
   "name": "python3"
  },
  "language_info": {
   "codemirror_mode": {
    "name": "ipython",
    "version": 3
   },
   "file_extension": ".py",
   "mimetype": "text/x-python",
   "name": "python",
   "nbconvert_exporter": "python",
   "pygments_lexer": "ipython3",
   "version": "3.6.4"
  }
 },
 "nbformat": 4,
 "nbformat_minor": 2
}
